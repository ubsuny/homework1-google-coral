{
 "cells": [
  {
   "cell_type": "markdown",
   "metadata": {},
   "source": [
    "# Carbon Suboxide\n",
    "\n",
    "Force constants taken from https://sci-hub.se/https://pubs.rsc.org/en/content/articlelanding/1937/jr/jr9370001396/unauth#!divAbstract\n",
    "\n",
    "\n",
    "- oxygen mass = 16 amu\n",
    "- carbon mass = 12 amu\n",
    "- K = 14.87  N/cm\n",
    "- k = 14.15  N/cm\n",
    "\n",
    "\n"
   ]
  },
  {
   "cell_type": "code",
   "execution_count": 6,
   "metadata": {},
   "outputs": [],
   "source": [
    "import numpy as np\n",
    "import matplotlib.pyplot as plt\n",
    "from scipy.linalg import eig"
   ]
  },
  {
   "cell_type": "code",
   "execution_count": 7,
   "metadata": {},
   "outputs": [
    {
     "name": "stdout",
     "output_type": "stream",
     "text": [
      "Mass matrix:\n",
      "[[16.  0.  0.  0.  0.]\n",
      " [ 0. 12.  0.  0.  0.]\n",
      " [ 0.  0. 12.  0.  0.]\n",
      " [ 0.  0.  0. 12.  0.]\n",
      " [ 0.  0.  0.  0. 16.]]\n",
      "Spring matrix:\n",
      "[[ 14.87 -14.87   0.     0.     0.  ]\n",
      " [-14.87  29.02 -14.15   0.     0.  ]\n",
      " [  0.   -14.15  28.3  -14.15   0.  ]\n",
      " [  0.     0.   -14.15  29.02 -14.87]\n",
      " [  0.     0.     0.   -14.87  14.87]]\n",
      "CPU times: user 10.4 ms, sys: 0 ns, total: 10.4 ms\n",
      "Wall time: 10.3 ms\n"
     ]
    }
   ],
   "source": [
    "%%time\n",
    "# Mass in AMU\n",
    "m1 = m5 = 16       # Oxygen \n",
    "m2 = m3 = m4 = 12  # Carbon\n",
    "\n",
    "# Mass matrix\n",
    "M = np.zeros( (5,5) )\n",
    "M[0,0] = m1\n",
    "M[1,1] = m2\n",
    "M[2,2] = m3\n",
    "M[3,3] = m4\n",
    "M[4,4] = m5\n",
    "\n",
    "\n",
    "# Spring constants in N/cm\n",
    "k12 = 14.87\n",
    "k23 = 14.15\n",
    "k34 = 14.15\n",
    "k45 = 14.87\n",
    "\n",
    "K = np.array([\n",
    "    [  +k12,   -k12,        0.0,         0.0,         0.0  ],\n",
    "    [  -k12,   +k12 + k23,  -k23,        0.0,         0.0  ],\n",
    "    [  0.0,    -k23,        +k23 + k34,  -k34,        0.0  ],\n",
    "    [  0.0,    0.0,         -k34,        +k34 + k45,  -k45 ],\n",
    "    [  0.0,    0.0,         0.0,         -k45,        +k45 ]])\n",
    "print ('Mass matrix:')\n",
    "print(M)\n",
    "print ('Spring matrix:')\n",
    "print(K)"
   ]
  },
  {
   "cell_type": "code",
   "execution_count": 8,
   "metadata": {},
   "outputs": [
    {
     "name": "stdout",
     "output_type": "stream",
     "text": [
      "---------------------\n",
      "Eigenvalue =   4.24\n",
      "Eigenvector  [ 0.14536396 -0.51815351  0.6486698  -0.51815351  0.14536396]\n",
      "---------------------\n",
      "Eigenvalue =   2.98\n",
      "Eigenvector  [-2.91898094e-01  6.44046196e-01  4.32644373e-16 -6.44046196e-01\n",
      "  2.91898094e-01]\n",
      "---------------------\n",
      "Eigenvalue =   1.46\n",
      "Eigenvector  [ 0.44896618 -0.25821367 -0.68081579 -0.25821367  0.44896618]\n",
      "---------------------\n",
      "Eigenvalue =   0.00\n",
      "Eigenvector  [0.4472136 0.4472136 0.4472136 0.4472136 0.4472136]\n",
      "---------------------\n",
      "Eigenvalue =   0.37\n",
      "Eigenvector  [ 6.05187824e-01  3.65715323e-01  4.52240509e-17 -3.65715323e-01\n",
      " -6.05187824e-01]\n",
      "CPU times: user 21.2 ms, sys: 3.73 ms, total: 24.9 ms\n",
      "Wall time: 20.8 ms\n"
     ]
    },
    {
     "name": "stderr",
     "output_type": "stream",
     "text": [
      "/usr/lib/python3/dist-packages/ipykernel_launcher.py:6: ComplexWarning: Casting complex values to real discards the imaginary part\n",
      "  \n"
     ]
    }
   ],
   "source": [
    "%%time\n",
    "# Eigenvector calculations\n",
    "omega,v = eig(K,M)\n",
    "\n",
    "for i,o in enumerate(omega):\n",
    "    print(\"---------------------\")\n",
    "    print(\"Eigenvalue = %6.2f\" % (o))    \n",
    "    print(\"Eigenvector \", v[:,i] )"
   ]
  },
  {
   "cell_type": "code",
   "execution_count": null,
   "metadata": {},
   "outputs": [],
   "source": []
  },
  {
   "cell_type": "code",
   "execution_count": null,
   "metadata": {},
   "outputs": [],
   "source": []
  },
  {
   "cell_type": "code",
   "execution_count": null,
   "metadata": {},
   "outputs": [],
   "source": []
  },
  {
   "cell_type": "code",
   "execution_count": null,
   "metadata": {},
   "outputs": [],
   "source": []
  },
  {
   "cell_type": "code",
   "execution_count": null,
   "metadata": {},
   "outputs": [],
   "source": []
  }
 ],
 "metadata": {
  "kernelspec": {
   "display_name": "Python 3",
   "language": "python",
   "name": "python3"
  },
  "language_info": {
   "codemirror_mode": {
    "name": "ipython",
    "version": 3
   },
   "file_extension": ".py",
   "mimetype": "text/x-python",
   "name": "python",
   "nbconvert_exporter": "python",
   "pygments_lexer": "ipython3",
   "version": "3.7.3"
  }
 },
 "nbformat": 4,
 "nbformat_minor": 2
}
