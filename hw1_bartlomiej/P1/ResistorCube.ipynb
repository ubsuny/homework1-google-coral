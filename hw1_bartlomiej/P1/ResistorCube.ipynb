{
 "cells": [
  {
   "cell_type": "markdown",
   "metadata": {},
   "source": [
    "# Resistor Cube\n",
    "\n",
    "Conceptually, this problem is rather simple. To find the current through each resistor, 12 equations are required. These come from nodal analysis at 7 of the cube's corners, and 5 of the \"loops\" formed in the cube. These are put into a matrix, and using Numpy's inbuilt linear algebra solver, the current through each resistor can be found.\n",
    "\n",
    "After a good long time messing around wit the circuit diagram, I fiund that the cube can be represented by three sets of 3-6-3 parallel resistors, with the sets connected together in series. Trivial circuit simplification yields a total equivalent resistance of $\\frac{5}{6}\\Omega$.\n",
    "\n",
    "For varying the resistance of a single resistor, there are two distinct cases. The first is if the resistor is on one of the outer sets, aka directly in contact with the current source. The other case is if the resistor is in the middle set of parallel resistors.\n",
    "\n",
    "Note: found the labeled schematic for the cube while looking at (analytic) example solutions, and based my circuit diagram and analysis off of that\n",
    "<img src=\"ResistCube.PNG\"  width=\"500\"/>\n",
    "<img src=\"rescube.jpg\"  width=\"500\"/>"
   ]
  },
  {
   "cell_type": "code",
   "execution_count": 13,
   "metadata": {},
   "outputs": [],
   "source": [
    "import numpy as np\n",
    "import matplotlib.pyplot as plt\n"
   ]
  },
  {
   "cell_type": "code",
   "execution_count": 14,
   "metadata": {},
   "outputs": [
    {
     "name": "stdout",
     "output_type": "stream",
     "text": [
      "CPU times: user 36.9 ms, sys: 0 ns, total: 36.9 ms\n",
      "Wall time: 37 ms\n"
     ]
    }
   ],
   "source": [
    "%%time\n",
    "rvals = np.linspace(0,10,100)\n",
    "req1 = np.zeros_like(rvals)\n",
    "req2 = np.zeros_like(rvals)\n",
    "\n",
    "r1 = r2 = r3 = r4 = r5 = r6 = r7 = r8 = r9 = r10 = r11 = r12 = 1\n",
    "v0 = 2.5\n",
    "v = np.zeros((12,1))\n",
    "v[11,0] = v0\n",
    "\n",
    "\n",
    "for ir,r1 in enumerate(rvals):\n",
    "    R = [\n",
    "        [1,0,0,-1,-1,0,0,0,0,0,0,0],\n",
    "        [0,0,0,0,1,-1,0,0,0,0,-1,0],\n",
    "        [0,0,0,1,0,0,0,-1,0,-1,0,0],\n",
    "        [0,1,0,0,0,1,-1,0,0,0,0,0],\n",
    "        [0,0,1,0,0,0,0,1,-1,0,0,0],\n",
    "        [0,0,0,0,0,0,1,0,1,0,0,-1],\n",
    "        [-r1,r2,0,0,-r5,-r6,0,0,0,0,0,0],\n",
    "        [-r1,0,r3,-r4,0,0,0,-r8,0,0,0,0],\n",
    "        [0,0,0,-r4,r5,0,0,0,0,-r10,r11,0],\n",
    "        [0,0,0,0,0,-r6,-r7,0,0,0,r11,-r12],\n",
    "        [0,0,0,0,0,0,0,-r8,-r9,r10,0,-r12],\n",
    "        [r1,0,0,0,r5,0,0,0,0,0,r11,0]]\n",
    "    i = np.linalg.solve(R, v)\n",
    "    req1[ir] =  v0/(i[9,0]+i[10,0]+i[11,0])"
   ]
  },
  {
   "cell_type": "code",
   "execution_count": 15,
   "metadata": {},
   "outputs": [
    {
     "name": "stdout",
     "output_type": "stream",
     "text": [
      "CPU times: user 42.3 ms, sys: 15 µs, total: 42.3 ms\n",
      "Wall time: 42.1 ms\n"
     ]
    }
   ],
   "source": [
    "%%time\n",
    "r1 = r2 = r3 = r4 = r5 = r6 = r7 = r8 = r9 = r10 = r11 = r12 = 1\n",
    "v0 = 2.5\n",
    "v = np.zeros((12,1))\n",
    "v[11,0] = v0\n",
    "for ir,r4 in enumerate(rvals):\n",
    "    R = [\n",
    "        [1,0,0,-1,-1,0,0,0,0,0,0,0],\n",
    "        [0,0,0,0,1,-1,0,0,0,0,-1,0],\n",
    "        [0,0,0,1,0,0,0,-1,0,-1,0,0],\n",
    "        [0,1,0,0,0,1,-1,0,0,0,0,0],\n",
    "        [0,0,1,0,0,0,0,1,-1,0,0,0],\n",
    "        [0,0,0,0,0,0,1,0,1,0,0,-1],\n",
    "        [-r1,r2,0,0,-r5,-r6,0,0,0,0,0,0],\n",
    "        [-r1,0,r3,-r4,0,0,0,-r8,0,0,0,0],\n",
    "        [0,0,0,-r4,r5,0,0,0,0,-r10,r11,0],\n",
    "        [0,0,0,0,0,-r6,-r7,0,0,0,r11,-r12],\n",
    "        [0,0,0,0,0,0,0,-r8,-r9,r10,0,-r12],\n",
    "        [r1,0,0,0,r5,0,0,0,0,0,r11,0]\n",
    "        ]\n",
    "        \n",
    "    i = np.linalg.solve(R, v)\n",
    "    req2[ir] =v0/(i[9,0]+i[10,0]+i[11,0])"
   ]
  },
  {
   "cell_type": "code",
   "execution_count": 16,
   "metadata": {},
   "outputs": [
    {
     "data": {
      "image/png": "[encoded data removed]",
      "text/plain": [
       "<Figure size 432x288 with 1 Axes>"
      ]
     },
     "metadata": {
      "needs_background": "light"
     },
     "output_type": "display_data"
    },
    {
     "name": "stdout",
     "output_type": "stream",
     "text": [
      "CPU times: user 1.49 s, sys: 43.5 ms, total: 1.53 s\n",
      "Wall time: 1.53 s\n"
     ]
    }
   ],
   "source": [
    "%%time\n",
    "plt.plot(rvals,req1,label=\"R1\")\n",
    "plt.plot(rvals,req2,label=\"R4\")\n",
    "plt.ylabel(r'$R_{eq} \\; (\\Omega)$')\n",
    "plt.xlabel(r'$R_{eq} \\; (\\Omega)$')\n",
    "plt.legend()\n",
    "plt.show()"
   ]
  },
  {
   "cell_type": "code",
   "execution_count": null,
   "metadata": {},
   "outputs": [],
   "source": []
  },
  {
   "cell_type": "code",
   "execution_count": null,
   "metadata": {},
   "outputs": [],
   "source": []
  },
  {
   "cell_type": "code",
   "execution_count": null,
   "metadata": {},
   "outputs": [],
   "source": []
  }
 ],
 "metadata": {
  "kernelspec": {
   "display_name": "Python 3",
   "language": "python",
   "name": "python3"
  },
  "language_info": {
   "codemirror_mode": {
    "name": "ipython",
    "version": 3
   },
   "file_extension": ".py",
   "mimetype": "text/x-python",
   "name": "python",
   "nbconvert_exporter": "python",
   "pygments_lexer": "ipython3",
   "version": "3.7.3"
  }
 },
 "nbformat": 4,
 "nbformat_minor": 4
}
