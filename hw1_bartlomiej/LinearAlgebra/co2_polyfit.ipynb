{
 "cells": [
  {
   "cell_type": "markdown",
   "metadata": {},
   "source": [
    "# Fitting CO$_2$ data from Mauna Loa Observatory Reprise\n",
    "\n",
    "Data taken from [NOAA ESRL](https://www.esrl.noaa.gov/gmd/ccgg/trends/)\n",
    "\n",
    "\n",
    "Now that we have a toolbox of matrix tools, we can compute polynomial fits directly for arbitrary polynomial order without calculating the variables individually. Recall that, given inputs $\\{x_i,y_i\\}$ with uncertainties $\\{\\sigma_i\\}$, we can define the input vector \n",
    "\n",
    "$$\n",
    "b_i = y_i / \\sigma_i\n",
    "$$\n",
    "\n",
    "and then construct the solution for the coefficients $a_j$ as:\n",
    "\n",
    "\n",
    "$$\n",
    "\\vec{a} = \\left(A^TA\\right)^{-1}A^T\\vec{b}\n",
    "$$\n",
    "\n",
    "With the matrix \"A\" being the design matrix:\n",
    "\n",
    "$$\n",
    "A=\\left[\\begin{array}{cccc}{1 / \\sigma_{0}} & {x_{0} / \\sigma_{0}} & {x_{0}^{2} / \\sigma_{0}} & {\\ldots} \\\\ {1 / \\sigma_{1}} & {x_{1} / \\sigma_{1}} & {x_{1}^{2} / \\sigma_{1}} & {\\ldots} \\\\ {\\vdots} & {\\vdots} & {\\vdots} & {\\ddots} \\end{array}\\right]\n",
    "$$\n",
    "\n",
    "\n",
    "The uncertainties can be read off from the diagonal elements of the covariance matrix\n",
    "\n",
    "$$\n",
    "C = \\left(A^TA\\right)^{-1}\n",
    "$$\n",
    "\n",
    "\n"
   ]
  },
  {
   "cell_type": "code",
   "execution_count": 1,
   "metadata": {},
   "outputs": [],
   "source": [
    "import matplotlib.pyplot as plt\n",
    "import numpy as np\n",
    "from polyfit import polyfit\n",
    "from read_co2 import read_co2"
   ]
  },
  {
   "cell_type": "code",
   "execution_count": 2,
   "metadata": {},
   "outputs": [],
   "source": [
    "# Make the plots a bit bigger to see\n",
    "# NOTE: Must be done in a separate cell\n",
    "plt.rcParams['figure.dpi'] = 100"
   ]
  },
  {
   "cell_type": "code",
   "execution_count": 1,
   "metadata": {},
   "outputs": [
    {
     "ename": "NameError",
     "evalue": "name 'read_co2' is not defined",
     "output_type": "error",
     "traceback": [
      "\u001b[1;31m---------------------------------------------------------------------------\u001b[0m",
      "\u001b[1;31mNameError\u001b[0m                                 Traceback (most recent call last)",
      "\u001b[1;32m<ipython-input-1-3763e2b48b0c>\u001b[0m in \u001b[0;36m<module>\u001b[1;34m\u001b[0m\n\u001b[0;32m      1\u001b[0m \u001b[1;31m# Get the CO2 data\u001b[0m\u001b[1;33m\u001b[0m\u001b[1;33m\u001b[0m\u001b[1;33m\u001b[0m\u001b[0m\n\u001b[1;32m----> 2\u001b[1;33m \u001b[0mdates\u001b[0m\u001b[1;33m,\u001b[0m\u001b[0mdata\u001b[0m \u001b[1;33m=\u001b[0m \u001b[0mread_co2\u001b[0m\u001b[1;33m(\u001b[0m\u001b[1;34m'co2_mm_mlo.txt'\u001b[0m\u001b[1;33m)\u001b[0m\u001b[1;33m\u001b[0m\u001b[1;33m\u001b[0m\u001b[0m\n\u001b[0m\u001b[0;32m      3\u001b[0m \u001b[1;33m\u001b[0m\u001b[0m\n\u001b[0;32m      4\u001b[0m \u001b[1;31m# Set uncertainties to 1 for all points\u001b[0m\u001b[1;33m\u001b[0m\u001b[1;33m\u001b[0m\u001b[1;33m\u001b[0m\u001b[0m\n\u001b[0;32m      5\u001b[0m \u001b[0merr\u001b[0m \u001b[1;33m=\u001b[0m \u001b[0mnp\u001b[0m\u001b[1;33m.\u001b[0m\u001b[0mfull_like\u001b[0m\u001b[1;33m(\u001b[0m\u001b[0mdata\u001b[0m\u001b[1;33m,\u001b[0m \u001b[1;36m1.\u001b[0m\u001b[1;33m)\u001b[0m\u001b[1;33m\u001b[0m\u001b[1;33m\u001b[0m\u001b[0m\n",
      "\u001b[1;31mNameError\u001b[0m: name 'read_co2' is not defined"
     ]
    }
   ],
   "source": [
    "# Get the CO2 data\n",
    "dates,data = read_co2('co2_mm_mlo.txt')\n",
    "\n",
    "# Set uncertainties to 1 for all points\n",
    "err = np.full_like(data, 1.)\n",
    "\n",
    "# Fit to polynomial\n",
    "M = 2\n",
    "a, siga, C, chi2, yfit = polyfit(dates,data,err,M)\n",
    "\n",
    "plt.plot( dates, data, label=\"Data\")\n",
    "plt.plot(dates,yfit, label=\"Fit\")\n",
    "plt.legend()\n",
    "plt.show()\n",
    "\n",
    "if len(data) - 3 > 0 :\n",
    "    print (' chi-square/d.o.f. = ', chi2/(len(data)-3))\n",
    "    for i in range(M+1):\n",
    "        print ( ' a[%3d] = %+6.2e +- %+6.2e' % (i, a[i], siga[i]) )\n",
    "\n"
   ]
  },
  {
   "cell_type": "code",
   "execution_count": null,
   "metadata": {},
   "outputs": [],
   "source": []
  },
  {
   "cell_type": "code",
   "execution_count": null,
   "metadata": {},
   "outputs": [],
   "source": []
  }
 ],
 "metadata": {
  "kernelspec": {
   "display_name": "Python 3",
   "language": "python",
   "name": "python3"
  },
  "language_info": {
   "codemirror_mode": {
    "name": "ipython",
    "version": 3
   },
   "file_extension": ".py",
   "mimetype": "text/x-python",
   "name": "python",
   "nbconvert_exporter": "python",
   "pygments_lexer": "ipython3",
   "version": "3.8.5"
  }
 },
 "nbformat": 4,
 "nbformat_minor": 2
}
