{
 "cells": [
  {
   "cell_type": "markdown",
   "metadata": {},
   "source": [
    "# HW # 9 For Google Coral Dev Board Mini\n",
    "\n",
    "The entire homework was trivial. After manually installing matplotlib and scipy from source just for fun, everything worked exactly the same. I reran the assignment on one of my laptops and timed all the cells in all 3 problems. Comparison between the laptop and coral is below. (Only cells performing actual calculations are counted, times given are total cpu time provided by jupyter %%time functionality)\n",
    "\n",
    "\n",
    "\n",
    "Problem 1\n",
    "\n",
    "|Cell | Coral | Laptop|\n",
    "|-----|-------|--------|\n",
    "|1    |36.4 ms|5.41 ms|\n",
    "|2    |42.3 ms|8.6 ms|\n",
    "|3    |1.53 s |142 ms|"
   ]
  },
  {
   "cell_type": "markdown",
   "metadata": {},
   "source": [
    "Problem 2\n",
    "\n",
    "|Cell | Coral | Laptop|\n",
    "|-----|-------|--------|\n",
    "|1    |10.4 ms|3.62 ms|\n",
    "|2    |24.9 ms|8.68 ms|\n",
    "\n",
    "\n",
    "Problem 3\n",
    "\n",
    "|Cell | Coral | Laptop|\n",
    "|-----|-------|--------|\n",
    "|1    |258 µs |62 µs|\n",
    "|2    |1.81 s |180 ms|\n",
    "|3    |1.6 s  |135 ms|"
   ]
  },
  {
   "cell_type": "code",
   "execution_count": null,
   "metadata": {},
   "outputs": [],
   "source": []
  }
 ],
 "metadata": {
  "kernelspec": {
   "display_name": "Python 3",
   "language": "python",
   "name": "python3"
  },
  "language_info": {
   "codemirror_mode": {
    "name": "ipython",
    "version": 3
   },
   "file_extension": ".py",
   "mimetype": "text/x-python",
   "name": "python",
   "nbconvert_exporter": "python",
   "pygments_lexer": "ipython3",
   "version": "3.7.3"
  }
 },
 "nbformat": 4,
 "nbformat_minor": 2
}
