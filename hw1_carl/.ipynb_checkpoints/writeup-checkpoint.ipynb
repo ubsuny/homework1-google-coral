{
 "cells": [
  {
   "cell_type": "markdown",
   "metadata": {},
   "source": [
    "# This is the write up for hw1, Comp Phys II\n",
    "I'm using the Coral dev board from google. And I choose the homework 7 from the last semester and it's focusing on fft.\n",
    "  \n",
    "To complete this homework, I first followed the user instruction from the [coral official website](https://coral.ai/docs/dev-board/get-started/). The general sequece is :\n",
    "- flash the board with a micro SD card to install Mendel Linux\n",
    "- connect to the board via MDT shell\n",
    "- connect to the internet\n",
    "- use SSH to get the remote access\n",
    "- install python3 and packages\n",
    "- get Pycoral API running\n",
    "\n",
    "I also fix some mistakes from last semester's homework:\n",
    "- P1: find the appropriate peaks and convert the fft index to actual frequency (Hz).\n",
    "- P2: Reset the filtering frequency limit and fix the x axis label.\n",
    "- P3: Reset the highpass filter to make the filterd image completely lose periodicity."
   ]
  }
 ],
 "metadata": {
  "kernelspec": {
   "display_name": "Python 3",
   "language": "python",
   "name": "python3"
  },
  "language_info": {
   "codemirror_mode": {
    "name": "ipython",
    "version": 3
   },
   "file_extension": ".py",
   "mimetype": "text/x-python",
   "name": "python",
   "nbconvert_exporter": "python",
   "pygments_lexer": "ipython3",
   "version": "3.7.3"
  }
 },
 "nbformat": 4,
 "nbformat_minor": 2
}
